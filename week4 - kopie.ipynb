{
 "cells": [
  {
   "cell_type": "markdown",
   "metadata": {},
   "source": [
    "Before you turn this problem in, make sure everything runs as expected. First, **restart the kernel** (in the menubar, select Kernel$\\rightarrow$Restart) and then **run all cells** (in the menubar, select Cell$\\rightarrow$Run All).\n",
    "\n",
    "Make sure you fill in any place that says `YOUR CODE HERE` or \"YOUR ANSWER HERE\", as well as your name and collaborators below:"
   ]
  },
  {
   "cell_type": "code",
   "execution_count": 1,
   "metadata": {},
   "outputs": [],
   "source": [
    "NAME = \"Ivo Willemse,2013500\"\n",
    "COLLABORATORS = \"\""
   ]
  },
  {
   "cell_type": "markdown",
   "metadata": {},
   "source": [
    "---"
   ]
  },
  {
   "cell_type": "markdown",
   "metadata": {},
   "source": [
    "# Predicting the number of your customers\n",
    "\n",
    "## Introduction\n",
    "\n",
    "Suppose you have a shop. Every month you count the total number of your customers who bought from your shop. To simplify, we think of people buying one unit from your shop or nothing. \n",
    "\n",
    "\n",
    "Your customers are of two types:\n",
    "* some are \"returning\" customers (i.e. they also bought last month) and \n",
    "* the others are new (did not buy last month)\n",
    "\n",
    "So we will not worry about customers who, say, bought two months ago but not last month.\n",
    "\n",
    "In this notebook, we first generate the data ourselves (so that you fully understand the structure of the data) and then we analyze this data.\n",
    "\n",
    "## Importing libraries\n",
    "\n",
    "We first import the libraries that we need."
   ]
  },
  {
   "cell_type": "code",
   "execution_count": 2,
   "metadata": {},
   "outputs": [],
   "source": [
    "import datetime\n",
    "import matplotlib.pyplot as plt\n",
    "import pandas as pd\n",
    "import numpy as np\n",
    "%matplotlib inline"
   ]
  },
  {
   "cell_type": "markdown",
   "metadata": {},
   "source": [
    "## Model\n",
    "\n",
    "We will generate the data with the following model.\n",
    "\n",
    "Let $x_t$ denote the logarithm of the number of customers in period $t$. We assume that $x_t$ evolves over time as follows:\n",
    "\n",
    "$$\n",
    "x_t = \\rho x_{t-1} + u_t\n",
    "$$\n",
    "\n",
    "where $u_t$ is normally distributed with mean $\\mu_u \\geq 0$ and standard deviation $\\sigma_u \\geq 0$ and $\\rho \\in [0,1]$. Hence, there is a fraction $\\rho$ of previous period customers that return to buy this period and there is an inflow $u_t$ of new customers in period $t$.\n",
    "\n",
    "\n",
    "-------------\n",
    "\n",
    "**Exercise**\n",
    "\n",
    "What is an advantage of defining $x_t$ as the logarithm of the number of customers? [hint: what would you need to \"worry\" about if $x_t$ denotes the number of customers?]\n",
    "\n",
    "--------------"
   ]
  },
  {
   "cell_type": "markdown",
   "metadata": {
    "deletable": false,
    "nbgrader": {
     "checksum": "b14b6833ca941a2a77fadb3500857447",
     "grade": true,
     "grade_id": "cell-ced668bb411a762f",
     "locked": false,
     "points": 0,
     "schema_version": 1,
     "solution": true
    }
   },
   "source": [
    "Je ziet dan ook de kleine nummers in een grafiek. Anders zou je die niet zien door de grote getallen. Door de logaritmische schaal zie je beide goed."
   ]
  },
  {
   "cell_type": "markdown",
   "metadata": {},
   "source": [
    "We assume that both $\\mu$ and $\\rho$ are a function of the price that is charged. If you charge a high price, fewer customers will return and also the inflow of new customers will be lower.\n",
    "\n",
    "We generate data for 24 months. The code below starts from today and generates dates with a Monthly frequency back into the past years. We define how $\\rho$ and $\\mu$ depend on the price $p$ that the shop charges in a period.\n",
    "\n",
    "Finally, we create a pandas dataframe `df_customers` with this data. "
   ]
  },
  {
   "cell_type": "code",
   "execution_count": 3,
   "metadata": {},
   "outputs": [],
   "source": [
    "number_of_periods = 24\n",
    "todays_date = datetime.datetime.now().date()\n",
    "index = pd.date_range(end = todays_date, periods=number_of_periods, freq='M')\n",
    "columns = ['log number of customers']\n",
    "\n",
    "def mu(m,p):\n",
    "    return m*(1-p)\n",
    "\n",
    "def rho(r,p):\n",
    "    return r*(1-p)\n",
    "\n",
    "sigma = 1.0\n",
    "\n",
    "p_0 = [0.2]\n",
    "p_1 = [0.6]\n",
    "period_0 = 12\n",
    "period_1 = number_of_periods+1-period_0\n",
    "vector_p = period_0*p_0 + period_1*p_1\n",
    "\n",
    "x_0 = 10\n",
    "x = []\n",
    "x.append(x_0)\n",
    "for t in range(1,number_of_periods+1):\n",
    "    u = np.random.normal(mu(2,vector_p[t]), sigma)\n",
    "    x.append(rho(0.5,vector_p[t])*x[t-1]+u)\n",
    "    \n",
    "df_customers = pd.DataFrame(x[1:], index=index, columns=columns)"
   ]
  },
  {
   "cell_type": "markdown",
   "metadata": {},
   "source": [
    "rho = part of customers that stay\n",
    "ut = standaard verdeeld met mu en sigma\n",
    "\n",
    "x =[] maakt een lege lijst\n",
    "s.append vult deze lege lijst\n"
   ]
  },
  {
   "cell_type": "markdown",
   "metadata": {},
   "source": [
    "---------\n",
    "    \n",
    "**Exercise**\n",
    "\n",
    "Explain what the code above does:\n",
    "\n",
    "* what is `vector_p` and how is it generated?\n",
    "* what is the type of `x`? How is this vector generated?\n",
    "* show what the first couple of rows of the `df_customers` look like."
   ]
  },
  {
   "cell_type": "markdown",
   "metadata": {
    "deletable": false,
    "nbgrader": {
     "checksum": "8cb82615a1c2f95cc7b92f1e8ee81b2a",
     "grade": true,
     "grade_id": "cell-a388b5a1c992c338",
     "locked": false,
     "points": 0,
     "schema_version": 1,
     "solution": true
    }
   },
   "source": [
    "vector p zorgt voor een lage prijs in de eerste periode en een hoge prijs in de late periode. Het zorgt voor een lijst van 12 keer p_0 en 12 keer p_1\n",
    "x is de log of the number of customers"
   ]
  },
  {
   "cell_type": "code",
   "execution_count": 10,
   "metadata": {},
   "outputs": [
    {
     "data": {
      "text/plain": [
       "[0.3, 0.2, 0.3, 0.2]"
      ]
     },
     "execution_count": 10,
     "metadata": {},
     "output_type": "execute_result"
    }
   ],
   "source": [
    "[0.3,0.2]*2 # als je vermenigvuldigt in python krijg je twee keer de lijst \n",
    "#niet zoals bij de numpy arrays waar de waardes worden vermenigvuldig"
   ]
  },
  {
   "cell_type": "code",
   "execution_count": 8,
   "metadata": {
    "deletable": false,
    "nbgrader": {
     "checksum": "7ba4d1696bdbfce218cd5323e35ca792",
     "grade": false,
     "grade_id": "cell-dc2b3e78322f18bd",
     "locked": false,
     "schema_version": 1,
     "solution": true
    }
   },
   "outputs": [
    {
     "data": {
      "text/plain": [
       "2016-04-30    3.782265\n",
       "2016-05-31    4.087569\n",
       "2016-06-30    3.328820\n",
       "2016-07-31    4.357164\n",
       "2016-08-31    3.809434\n",
       "2016-09-30    2.342263\n",
       "2016-10-31    4.083713\n",
       "2016-11-30    2.488147\n",
       "2016-12-31    2.014379\n",
       "2017-01-31    1.221972\n",
       "2017-02-28    0.005619\n",
       "2017-03-31    0.193480\n",
       "2017-04-30    1.826411\n",
       "2017-05-31    2.087705\n",
       "2017-06-30    1.991999\n",
       "2017-07-31   -0.258090\n",
       "2017-08-31    1.430361\n",
       "2017-09-30    0.847387\n",
       "2017-10-31    1.501936\n",
       "2017-11-30    3.063858\n",
       "2017-12-31    2.412968\n",
       "2018-01-31    1.019191\n",
       "2018-02-28   -0.607778\n",
       "2018-03-31    0.872626\n",
       "Freq: M, Name: log number of customers, dtype: float64"
      ]
     },
     "execution_count": 8,
     "metadata": {},
     "output_type": "execute_result"
    }
   ],
   "source": [
    "df_customers.iloc[7],df_customers.loc['2016-04-30'] #hier slice je een element mee let op loc en iloc\n",
    "df_customers['log number of customers'] #hier slice je een kolom mee"
   ]
  },
  {
   "cell_type": "markdown",
   "metadata": {},
   "source": [
    "-----------\n",
    "\n",
    "**Exercise**\n",
    "\n",
    "Calculate the number of customers in each of the periods. [hint: you may want to check numpy's `exp` function]\n",
    "\n",
    "-----------"
   ]
  },
  {
   "cell_type": "code",
   "execution_count": 11,
   "metadata": {
    "deletable": false,
    "nbgrader": {
     "checksum": "48436a28b2282fd1a04886226c768d19",
     "grade": false,
     "grade_id": "cell-af1fc254099c0651",
     "locked": false,
     "schema_version": 1,
     "solution": true
    }
   },
   "outputs": [
    {
     "data": {
      "text/html": [
       "<div>\n",
       "<style scoped>\n",
       "    .dataframe tbody tr th:only-of-type {\n",
       "        vertical-align: middle;\n",
       "    }\n",
       "\n",
       "    .dataframe tbody tr th {\n",
       "        vertical-align: top;\n",
       "    }\n",
       "\n",
       "    .dataframe thead th {\n",
       "        text-align: right;\n",
       "    }\n",
       "</style>\n",
       "<table border=\"1\" class=\"dataframe\">\n",
       "  <thead>\n",
       "    <tr style=\"text-align: right;\">\n",
       "      <th></th>\n",
       "      <th>log number of customers</th>\n",
       "    </tr>\n",
       "  </thead>\n",
       "  <tbody>\n",
       "    <tr>\n",
       "      <th>2016-04-30</th>\n",
       "      <td>3.782265</td>\n",
       "    </tr>\n",
       "    <tr>\n",
       "      <th>2016-05-31</th>\n",
       "      <td>4.087569</td>\n",
       "    </tr>\n",
       "    <tr>\n",
       "      <th>2016-06-30</th>\n",
       "      <td>3.328820</td>\n",
       "    </tr>\n",
       "    <tr>\n",
       "      <th>2016-07-31</th>\n",
       "      <td>4.357164</td>\n",
       "    </tr>\n",
       "    <tr>\n",
       "      <th>2016-08-31</th>\n",
       "      <td>3.809434</td>\n",
       "    </tr>\n",
       "  </tbody>\n",
       "</table>\n",
       "</div>"
      ],
      "text/plain": [
       "            log number of customers\n",
       "2016-04-30                 3.782265\n",
       "2016-05-31                 4.087569\n",
       "2016-06-30                 3.328820\n",
       "2016-07-31                 4.357164\n",
       "2016-08-31                 3.809434"
      ]
     },
     "execution_count": 11,
     "metadata": {},
     "output_type": "execute_result"
    }
   ],
   "source": [
    "df_customers.head()"
   ]
  },
  {
   "cell_type": "code",
   "execution_count": 12,
   "metadata": {},
   "outputs": [
    {
     "data": {
      "text/plain": [
       "2016-04-30    43.915402\n",
       "2016-05-31    59.594820\n",
       "2016-06-30    27.905389\n",
       "2016-07-31    78.035519\n",
       "2016-08-31    45.124878\n",
       "2016-09-30    10.404756\n",
       "2016-10-31    59.365508\n",
       "2016-11-30    12.038946\n",
       "2016-12-31     7.496073\n",
       "2017-01-31     3.393875\n",
       "2017-02-28     1.005635\n",
       "2017-03-31     1.213465\n",
       "2017-04-30     6.211555\n",
       "2017-05-31     8.066385\n",
       "2017-06-30     7.330171\n",
       "2017-07-31     0.772526\n",
       "2017-08-31     4.180207\n",
       "2017-09-30     2.333542\n",
       "2017-10-31     4.490375\n",
       "2017-11-30    21.410002\n",
       "2017-12-31    11.167057\n",
       "2018-01-31     2.770954\n",
       "2018-02-28     0.544560\n",
       "2018-03-31     2.393186\n",
       "Freq: M, Name: log number of customers, dtype: float64"
      ]
     },
     "execution_count": 12,
     "metadata": {},
     "output_type": "execute_result"
    }
   ],
   "source": [
    "np.exp(df_customers['log number of customers'])"
   ]
  },
  {
   "cell_type": "markdown",
   "metadata": {},
   "source": [
    "-----------\n",
    "\n",
    "**Exercise**\n",
    "\n",
    "Calculate the average number of customers over the period of 24 months. [hint: check the datacamp course on pandas or google \"python pandas average\" to see how to calculate an average in a dataframe]\n",
    "\n",
    "-----------"
   ]
  },
  {
   "cell_type": "code",
   "execution_count": 13,
   "metadata": {},
   "outputs": [],
   "source": [
    "df_customers['number of customers'] = np.exp(df_customers['log number of customers'])"
   ]
  },
  {
   "cell_type": "code",
   "execution_count": 14,
   "metadata": {
    "deletable": false,
    "nbgrader": {
     "checksum": "4c318efc6536ae6ba1ed4e4804e5a9fa",
     "grade": false,
     "grade_id": "cell-c38250295485b1e5",
     "locked": false,
     "schema_version": 1,
     "solution": true
    }
   },
   "outputs": [
    {
     "data": {
      "text/plain": [
       "17.548532678865882"
      ]
     },
     "execution_count": 14,
     "metadata": {},
     "output_type": "execute_result"
    }
   ],
   "source": [
    "df_customers['number of customers'].mean()"
   ]
  },
  {
   "cell_type": "code",
   "execution_count": 15,
   "metadata": {},
   "outputs": [
    {
     "data": {
      "text/plain": [
       "7.413121888288264"
      ]
     },
     "execution_count": 15,
     "metadata": {},
     "output_type": "execute_result"
    }
   ],
   "source": [
    "df_customers['number of customers'].median()"
   ]
  },
  {
   "cell_type": "markdown",
   "metadata": {},
   "source": [
    "On the basis of the mean, you might conclude that you should expect around 30 customers on average (this can be different in your notebook as we are using random numbers here).\n",
    "\n",
    "-----------\n",
    "\n",
    "**Exercise**\n",
    "\n",
    "To get an idea on whether this is realistic, also calculate the median number of customers. What do you learn from this?\n",
    "\n",
    "--------------"
   ]
  },
  {
   "cell_type": "code",
   "execution_count": null,
   "metadata": {
    "deletable": false,
    "nbgrader": {
     "checksum": "73def957cc87804d9dedefbfd915ac11",
     "grade": false,
     "grade_id": "cell-2fd0754f1d9bebf4",
     "locked": false,
     "schema_version": 1,
     "solution": true
    }
   },
   "outputs": [],
   "source": [
    "#zie hierboven"
   ]
  },
  {
   "cell_type": "markdown",
   "metadata": {
    "deletable": false,
    "nbgrader": {
     "checksum": "5a46593b51ee22ba4f9b86c6a4da72b7",
     "grade": true,
     "grade_id": "cell-58ed63fcfd3670e4",
     "locked": false,
     "points": 0,
     "schema_version": 1,
     "solution": true
    }
   },
   "source": [
    "YOUR ANSWER HERE"
   ]
  },
  {
   "cell_type": "markdown",
   "metadata": {},
   "source": [
    "To get some idea on how the number of customers varies over time, we will plot the number of customers together with two moving averages: one moving average over 3 months, the other over 6 months."
   ]
  },
  {
   "cell_type": "code",
   "execution_count": 16,
   "metadata": {},
   "outputs": [],
   "source": [
    "df_customers['MA_3'] = df_customers['number of customers'].rolling(window=3).mean()\n",
    "df_customers['MA_6'] = df_customers['number of customers'].rolling(window=6).mean()"
   ]
  },
  {
   "cell_type": "markdown",
   "metadata": {},
   "source": [
    "------------\n",
    "\n",
    "**Exercise**\n",
    "\n",
    "Plot the number of customers and the moving averages defined above.\n",
    "\n",
    "-------------"
   ]
  },
  {
   "cell_type": "code",
   "execution_count": 23,
   "metadata": {
    "deletable": false,
    "nbgrader": {
     "checksum": "6ec4496e010bb1e1ef365081eb8e6133",
     "grade": false,
     "grade_id": "cell-523159b30875c8a2",
     "locked": false,
     "schema_version": 1,
     "solution": true
    }
   },
   "outputs": [
    {
     "data": {
      "text/plain": [
       "<matplotlib.axes._subplots.AxesSubplot at 0x1fec2beb898>"
      ]
     },
     "execution_count": 23,
     "metadata": {},
     "output_type": "execute_result"
    },
    {
     "data": {
      "image/png": "[encoded data removed]",
      "text/plain": [
       "<matplotlib.figure.Figure at 0x1fec2bfe748>"
      ]
     },
     "metadata": {},
     "output_type": "display_data"
    }
   ],
   "source": [
    "df_customers['MA_3'].plot(color='red')\n",
    "df_customers['MA_6'].plot(color='blue')\n",
    "df_customers['number of customers'].plot(color='green')"
   ]
  },
  {
   "cell_type": "markdown",
   "metadata": {},
   "source": [
    "Consider the first couple of rows of the dataframe `df_customers`.\n",
    "\n",
    "----------\n",
    "\n",
    "**Exercise**\n",
    "\n",
    "Why does \"NaN\" mean and why do they appear? Hint: use google if you do not know what \"NaN\" stands for.\n",
    "\n",
    "-----------"
   ]
  },
  {
   "cell_type": "markdown",
   "metadata": {
    "deletable": false,
    "nbgrader": {
     "checksum": "0791a69a801f77c9faa30648d37a76e0",
     "grade": false,
     "grade_id": "cell-17ee63c79a495cc6",
     "locked": false,
     "schema_version": 1,
     "solution": true
    }
   },
   "source": [
    "Je hebt drie observaties voordat je de eerste uitkomst krijgt bij de moving average\n",
    "NaN = not a number"
   ]
  },
  {
   "cell_type": "markdown",
   "metadata": {
    "deletable": false,
    "nbgrader": {
     "checksum": "746eed0551f565a588d72c6b80bf6cf2",
     "grade": true,
     "grade_id": "cell-3f494180ff999367",
     "locked": false,
     "points": 0,
     "schema_version": 1,
     "solution": true
    }
   },
   "source": [
    "YOUR ANSWER HERE"
   ]
  },
  {
   "cell_type": "markdown",
   "metadata": {},
   "source": [
    "--------------\n",
    "\n",
    "**Exercise**\n",
    "\n",
    "Add a column to `df_customers` with the price per period.\n",
    "\n",
    "------------"
   ]
  },
  {
   "cell_type": "code",
   "execution_count": 26,
   "metadata": {
    "deletable": false,
    "nbgrader": {
     "checksum": "9f168016ede597e32d69a1f805cfd29c",
     "grade": false,
     "grade_id": "cell-ff7618acb286f561",
     "locked": false,
     "schema_version": 1,
     "solution": true
    }
   },
   "outputs": [],
   "source": [
    "df_customers['price'] = vector_p[1:]"
   ]
  },
  {
   "cell_type": "markdown",
   "metadata": {},
   "source": [
    "Assume that your costs per sale equal 0.1.\n",
    "\n",
    "-----------\n",
    "\n",
    "**Exercise**\n",
    "\n",
    "Add a column `profits` to the dataframe.\n",
    "\n",
    "-----------\n"
   ]
  },
  {
   "cell_type": "code",
   "execution_count": null,
   "metadata": {
    "deletable": false,
    "nbgrader": {
     "checksum": "10ef2d70d1c7276edd584e80235a9ac9",
     "grade": false,
     "grade_id": "cell-a7a24b8981a8cfa6",
     "locked": false,
     "schema_version": 1,
     "solution": true
    }
   },
   "outputs": [],
   "source": [
    "df_customers['proftis'] = (df_customers['price'] - 0.1)*df_customers['number of customers']"
   ]
  },
  {
   "cell_type": "markdown",
   "metadata": {},
   "source": [
    "------------\n",
    "\n",
    "**Exercise**\n",
    "\n",
    "Plot the number of customers against profit. Explain the shape of curve that you see.\n",
    "\n",
    "------------"
   ]
  },
  {
   "cell_type": "code",
   "execution_count": 30,
   "metadata": {
    "deletable": false,
    "nbgrader": {
     "checksum": "0f92baacecae66f1d13ff3dc2a90be46",
     "grade": false,
     "grade_id": "cell-6d673ecd80bbe5dd",
     "locked": false,
     "schema_version": 1,
     "solution": true
    }
   },
   "outputs": [
    {
     "ename": "NameError",
     "evalue": "name 'scatter' is not defined",
     "output_type": "error",
     "traceback": [
      "\u001b[1;31m---------------------------------------------------------------------------\u001b[0m",
      "\u001b[1;31mNameError\u001b[0m                                 Traceback (most recent call last)",
      "\u001b[1;32m<ipython-input-30-c2dbae25eb2f>\u001b[0m in \u001b[0;36m<module>\u001b[1;34m()\u001b[0m\n\u001b[1;32m----> 1\u001b[1;33m \u001b[0mplt\u001b[0m\u001b[1;33m.\u001b[0m\u001b[0mplot\u001b[0m\u001b[1;33m(\u001b[0m\u001b[0mkind\u001b[0m\u001b[1;33m=\u001b[0m\u001b[0mscatter\u001b[0m\u001b[1;33m)\u001b[0m\u001b[1;33m\u001b[0m\u001b[0m\n\u001b[0m",
      "\u001b[1;31mNameError\u001b[0m: name 'scatter' is not defined"
     ]
    }
   ],
   "source": [
    "#zie bericht simo op whatsapp voor goede uitwerking"
   ]
  },
  {
   "cell_type": "markdown",
   "metadata": {
    "deletable": false,
    "nbgrader": {
     "checksum": "0a3481c6ef04d3d61f898981b13b5fab",
     "grade": true,
     "grade_id": "cell-0b335802f8a0b3d2",
     "locked": false,
     "points": 0,
     "schema_version": 1,
     "solution": true
    }
   },
   "source": [
    "YOUR ANSWER HERE"
   ]
  }
 ],
 "metadata": {
  "kernelspec": {
   "display_name": "Python 3",
   "language": "python",
   "name": "python3"
  },
  "language_info": {
   "codemirror_mode": {
    "name": "ipython",
    "version": 3
   },
   "file_extension": ".py",
   "mimetype": "text/x-python",
   "name": "python",
   "nbconvert_exporter": "python",
   "pygments_lexer": "ipython3",
   "version": "3.6.4"
  }
 },
 "nbformat": 4,
 "nbformat_minor": 2
}
